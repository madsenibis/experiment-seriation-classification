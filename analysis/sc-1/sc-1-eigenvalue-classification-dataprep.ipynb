{
 "cells": [
  {
   "cell_type": "code",
   "execution_count": 7,
   "metadata": {
    "collapsed": false
   },
   "outputs": [],
   "source": [
    "import cPickle as pickle\n",
    "import networkx as nx"
   ]
  },
  {
   "cell_type": "code",
   "execution_count": 8,
   "metadata": {
    "collapsed": true
   },
   "outputs": [],
   "source": [
    "train_freq_graphs = []\n",
    "train_freq_labels = []\n",
    "train_cont_graphs = []\n",
    "train_cont_labels = []\n",
    "# labels:  linear = 0, lineage = 1"
   ]
  },
  {
   "cell_type": "code",
   "execution_count": 9,
   "metadata": {
    "collapsed": true
   },
   "outputs": [],
   "source": [
    "from os import listdir\n",
    "from os.path import isfile, join\n"
   ]
  },
  {
   "cell_type": "code",
   "execution_count": 10,
   "metadata": {
    "collapsed": true
   },
   "outputs": [],
   "source": [
    "linear_freq_files = [f for f in listdir(\"train-linear/frequency\") if isfile(join(\"train-linear/frequency\", f))]\n",
    "lineage_freq_files = [f for f in listdir(\"train-lineage/frequency\") if isfile(join(\"train-lineage/frequency\", f))]\n",
    "linear_continuity_files = [f for f in listdir(\"train-linear/continuity\") if isfile(join(\"train-linear/continuity\", f))]\n",
    "lineage_continuity_files = [f for f in listdir(\"train-lineage/continuity\") if isfile(join(\"train-lineage/continuity\", f))]"
   ]
  },
  {
   "cell_type": "code",
   "execution_count": 11,
   "metadata": {
    "collapsed": false
   },
   "outputs": [],
   "source": [
    "for f in linear_freq_files:\n",
    "    path = \"train-linear/frequency/\" + f\n",
    "    g = nx.read_gml(path)\n",
    "    train_freq_graphs.append(g)\n",
    "    train_freq_labels.append(0)\n",
    "    \n",
    "for f in lineage_freq_files:\n",
    "    path = \"train-lineage/frequency/\" + f\n",
    "    g = nx.read_gml(path)\n",
    "    train_freq_graphs.append(g)\n",
    "    train_freq_labels.append(1)\n",
    "    \n",
    "for f in linear_continuity_files:\n",
    "    path = \"train-linear/continuity/\" + f\n",
    "    g = nx.read_gml(path)\n",
    "    train_cont_graphs.append(g)\n",
    "    train_cont_labels.append(0)\n",
    "    \n",
    "for f in lineage_continuity_files:\n",
    "    path = \"train-lineage/continuity/\" + f\n",
    "    g = nx.read_gml(path)\n",
    "    train_cont_graphs.append(g)\n",
    "    train_cont_labels.append(1)"
   ]
  },
  {
   "cell_type": "code",
   "execution_count": 12,
   "metadata": {
    "collapsed": true
   },
   "outputs": [],
   "source": [
    "pickle.dump(train_freq_graphs,open(\"train-freq-graphs.pkl\",'wb'))\n",
    "pickle.dump(train_freq_labels,open(\"train-freq-labels.pkl\",'wb'))\n",
    "pickle.dump(train_cont_graphs,open(\"train-cont-graphs.pkl\",'wb'))\n",
    "pickle.dump(train_cont_labels,open(\"train-cont-labels.pkl\",'wb'))"
   ]
  },
  {
   "cell_type": "code",
   "execution_count": null,
   "metadata": {
    "collapsed": true
   },
   "outputs": [],
   "source": []
  }
 ],
 "metadata": {
  "kernelspec": {
   "display_name": "Python 2",
   "language": "python",
   "name": "python2"
  },
  "language_info": {
   "codemirror_mode": {
    "name": "ipython",
    "version": 2
   },
   "file_extension": ".py",
   "mimetype": "text/x-python",
   "name": "python",
   "nbconvert_exporter": "python",
   "pygments_lexer": "ipython2",
   "version": "2.7.10"
  }
 },
 "nbformat": 4,
 "nbformat_minor": 0
}
