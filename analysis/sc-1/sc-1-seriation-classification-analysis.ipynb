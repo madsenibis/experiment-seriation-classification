{
 "cells": [
  {
   "cell_type": "code",
   "execution_count": 8,
   "metadata": {
    "collapsed": false
   },
   "outputs": [],
   "source": [
    "import numpy as np\n",
    "import networkx as nx\n",
    "import pandas as pd\n",
    "import matplotlib.pyplot as plt\n",
    "import seaborn as sns\n",
    "%matplotlib inline\n",
    "import cPickle as pickle\n",
    "from copy import deepcopy\n",
    "from sklearn.metrics import classification_report, accuracy_score, confusion_matrix"
   ]
  },
  {
   "cell_type": "code",
   "execution_count": 2,
   "metadata": {
    "collapsed": true
   },
   "outputs": [],
   "source": [
    "train_graphs = pickle.load(open(\"train-freq-graphs.pkl\",'r'))\n",
    "train_labels = pickle.load(open(\"train-freq-labels.pkl\",'r'))"
   ]
  },
  {
   "cell_type": "code",
   "execution_count": 3,
   "metadata": {
    "collapsed": false
   },
   "outputs": [
    {
     "name": "stderr",
     "output_type": "stream",
     "text": [
      "Using gpu device 0: GeForce GT 650M (CNMeM is disabled)\n",
      "/Users/mark/anaconda/lib/python2.7/site-packages/Theano-0.8.0.dev0-py2.7.egg/theano/tensor/signal/downsample.py:5: UserWarning: downsample module has been moved to the pool module.\n",
      "  warnings.warn(\"downsample module has been moved to the pool module.\")\n"
     ]
    },
    {
     "name": "stdout",
     "output_type": "stream",
     "text": [
      "Using Theano backend.\n"
     ]
    }
   ],
   "source": [
    "import sklearn_mmadsen as skm"
   ]
  },
  {
   "cell_type": "code",
   "execution_count": 4,
   "metadata": {
    "collapsed": false
   },
   "outputs": [],
   "source": [
    "gclf = skm.GraphEigenvalueNearestNeighbors(n_neighbors=5)"
   ]
  },
  {
   "cell_type": "code",
   "execution_count": 5,
   "metadata": {
    "collapsed": true
   },
   "outputs": [],
   "source": [
    "def leave_one_out_cv(ix, train_graphs, train_labels):\n",
    "    \"\"\"\n",
    "    Simple LOO data sets for kNN classification, given an index, returns a train set, labels, with the left out \n",
    "    graph and label as test_graph, test_label\n",
    "    \"\"\"\n",
    "    test_graph = train_graphs[ix]\n",
    "    test_label = train_labels[ix]\n",
    "    train_loo_graphs = deepcopy(train_graphs)\n",
    "    train_loo_labels = deepcopy(train_labels)\n",
    "    del train_loo_graphs[ix]\n",
    "    del train_loo_labels[ix]\n",
    "    return (train_loo_graphs, train_loo_labels, test_graph, test_label)"
   ]
  },
  {
   "cell_type": "code",
   "execution_count": 6,
   "metadata": {
    "collapsed": false
   },
   "outputs": [],
   "source": [
    "test_pred = []\n",
    "for ix in range(0, len(train_graphs)):\n",
    "    train_loo_graphs, train_loo_labels, test_graph, test_label = leave_one_out_cv(ix, train_graphs, train_labels)\n",
    "    gclf.fit(train_loo_graphs, train_loo_labels)\n",
    "    test_pred.append(gclf.predict([test_graph])[0])\n",
    "    "
   ]
  },
  {
   "cell_type": "code",
   "execution_count": 10,
   "metadata": {
    "collapsed": false
   },
   "outputs": [
    {
     "name": "stdout",
     "output_type": "stream",
     "text": [
      "          predicted 0  predicted 1\n",
      "actual 0           41            9\n",
      "actual 1           14           35\n",
      "             precision    recall  f1-score   support\n",
      "\n",
      "          0       0.75      0.82      0.78        50\n",
      "          1       0.80      0.71      0.75        49\n",
      "\n",
      "avg / total       0.77      0.77      0.77        99\n",
      "\n",
      "Accuracy on test: 0.768\n"
     ]
    }
   ],
   "source": [
    "cm = confusion_matrix(train_labels, test_pred)\n",
    "cmdf = pd.DataFrame(cm)\n",
    "cmdf.columns = map(lambda x: 'predicted {}'.format(x), cmdf.columns)\n",
    "cmdf.index = map(lambda x: 'actual {}'.format(x), cmdf.index)\n",
    "\n",
    "print cmdf\n",
    "print(classification_report(train_labels, test_pred))\n",
    "print(\"Accuracy on test: %0.3f\" % accuracy_score(train_labels, test_pred))"
   ]
  },
  {
   "cell_type": "code",
   "execution_count": 11,
   "metadata": {
    "collapsed": false
   },
   "outputs": [
    {
     "data": {
      "text/plain": [
       "<matplotlib.axes._subplots.AxesSubplot at 0x11df0c190>"
      ]
     },
     "execution_count": 11,
     "metadata": {},
     "output_type": "execute_result"
    },
    {
     "data": {
      "image/png": "[encoded data removed]",
      "text/plain": [
       "<matplotlib.figure.Figure at 0x11dfdda10>"
      ]
     },
     "metadata": {},
     "output_type": "display_data"
    }
   ],
   "source": [
    "sns.heatmap(cm.T, square=True, annot=True, fmt='d', cbar=False)"
   ]
  },
  {
   "cell_type": "code",
   "execution_count": null,
   "metadata": {
    "collapsed": false
   },
   "outputs": [],
   "source": [
    "# first 150 rows are linear"
   ]
  },
  {
   "cell_type": "code",
   "execution_count": 14,
   "metadata": {
    "collapsed": false
   },
   "outputs": [
    {
     "name": "stdout",
     "output_type": "stream",
     "text": [
      "Accuracy on test for 1 neighbors: 0.788\n",
      "Accuracy on test for 3 neighbors: 0.798\n",
      "Accuracy on test for 5 neighbors: 0.768\n",
      "Accuracy on test for 7 neighbors: 0.747\n",
      "Accuracy on test for 9 neighbors: 0.758\n",
      "Accuracy on test for 11 neighbors: 0.788\n",
      "Accuracy on test for 15 neighbors: 0.788\n"
     ]
    }
   ],
   "source": [
    "knn = [1, 3, 5, 7, 9, 11, 15]\n",
    "for nn in knn:\n",
    "    gclf = skm.GraphEigenvalueNearestNeighbors(n_neighbors=nn)\n",
    "    test_pred = []\n",
    "    for ix in range(0, len(train_graphs)):\n",
    "        train_loo_graphs, train_loo_labels, test_graph, test_label = leave_one_out_cv(ix, train_graphs, train_labels)\n",
    "        gclf.fit(train_loo_graphs, train_loo_labels)\n",
    "        test_pred.append(gclf.predict([test_graph])[0])\n",
    "    print(\"Accuracy on test for %s neighbors: %0.3f\" % (nn, accuracy_score(train_labels, test_pred)))\n",
    "    "
   ]
  },
  {
   "cell_type": "code",
   "execution_count": null,
   "metadata": {
    "collapsed": true
   },
   "outputs": [],
   "source": []
  }
 ],
 "metadata": {
  "kernelspec": {
   "display_name": "Python 2",
   "language": "python",
   "name": "python2"
  },
  "language_info": {
   "codemirror_mode": {
    "name": "ipython",
    "version": 2
   },
   "file_extension": ".py",
   "mimetype": "text/x-python",
   "name": "python",
   "nbconvert_exporter": "python",
   "pygments_lexer": "ipython2",
   "version": "2.7.10"
  }
 },
 "nbformat": 4,
 "nbformat_minor": 0
}
