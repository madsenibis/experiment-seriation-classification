{
 "cells": [
  {
   "cell_type": "code",
   "execution_count": 1,
   "metadata": {
    "collapsed": false
   },
   "outputs": [
    {
     "name": "stdout",
     "output_type": "stream",
     "text": [
      "Couldn't import dot_parser, loading of dot files will not be possible.\n"
     ]
    }
   ],
   "source": [
    "import cPickle as pickle\n",
    "import networkx as nx"
   ]
  },
  {
   "cell_type": "code",
   "execution_count": 2,
   "metadata": {
    "collapsed": true
   },
   "outputs": [],
   "source": [
    "train_cont_graphs = []\n",
    "train_cont_labels = []\n",
    "# labels:  linear = 0, lineage = 1"
   ]
  },
  {
   "cell_type": "code",
   "execution_count": 3,
   "metadata": {
    "collapsed": true
   },
   "outputs": [],
   "source": [
    "from os import listdir\n",
    "from os.path import isfile, join\n"
   ]
  },
  {
   "cell_type": "code",
   "execution_count": 4,
   "metadata": {
    "collapsed": true
   },
   "outputs": [],
   "source": [
    "early_split_files = [f for f in listdir(\"train-early-split/continuity\") if isfile(join(\"train-early-split/continuity\", f))]\n",
    "early_coalesce_files = [f for f in listdir(\"train-early-coalesce/continuity\") if isfile(join(\"train-early-coalesce/continuity\", f))]\n",
    "late_split_files = [f for f in listdir(\"train-late-split/continuity\") if isfile(join(\"train-late-split/continuity\", f))]\n",
    "late_coalesce_files = [f for f in listdir(\"train-late-coalesce/continuity\") if isfile(join(\"train-late-coalesce/continuity\", f))]"
   ]
  },
  {
   "cell_type": "code",
   "execution_count": 5,
   "metadata": {
    "collapsed": false
   },
   "outputs": [],
   "source": [
    "for f in early_split_files:\n",
    "    path = \"train-early-split/continuity/\" + f\n",
    "    g = nx.read_gml(path)\n",
    "    train_cont_graphs.append(g)\n",
    "    train_cont_labels.append(0)\n",
    "    \n",
    "for f in early_coalesce_files:\n",
    "    path = \"train-early-coalesce/continuity/\" + f\n",
    "    g = nx.read_gml(path)\n",
    "    train_cont_graphs.append(g)\n",
    "    train_cont_labels.append(1)\n",
    "    \n",
    "for f in late_split_files:\n",
    "    path = \"train-late-split/continuity/\" + f\n",
    "    g = nx.read_gml(path)\n",
    "    train_cont_graphs.append(g)\n",
    "    train_cont_labels.append(2)\n",
    "    \n",
    "for f in late_coalesce_files:\n",
    "    path = \"train-late-coalesce/continuity/\" + f\n",
    "    g = nx.read_gml(path)\n",
    "    train_cont_graphs.append(g)\n",
    "    train_cont_labels.append(3)"
   ]
  },
  {
   "cell_type": "code",
   "execution_count": 6,
   "metadata": {
    "collapsed": true
   },
   "outputs": [],
   "source": [
    "pickle.dump(train_cont_graphs,open(\"train-cont-graphs.pkl\",'wb'))\n",
    "pickle.dump(train_cont_labels,open(\"train-cont-labels.pkl\",'wb'))"
   ]
  },
  {
   "cell_type": "code",
   "execution_count": null,
   "metadata": {
    "collapsed": true
   },
   "outputs": [],
   "source": []
  }
 ],
 "metadata": {
  "kernelspec": {
   "display_name": "Python 2",
   "language": "python",
   "name": "python2"
  },
  "language_info": {
   "codemirror_mode": {
    "name": "ipython",
    "version": 2
   },
   "file_extension": ".py",
   "mimetype": "text/x-python",
   "name": "python",
   "nbconvert_exporter": "python",
   "pygments_lexer": "ipython2",
   "version": "2.7.10"
  }
 },
 "nbformat": 4,
 "nbformat_minor": 0
}
