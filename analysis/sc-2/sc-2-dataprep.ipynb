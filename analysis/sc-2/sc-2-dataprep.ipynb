{
 "cells": [
  {
   "cell_type": "code",
   "execution_count": 1,
   "metadata": {
    "collapsed": false
   },
   "outputs": [],
   "source": [
    "import cPickle as pickle\n",
    "import networkx as nx"
   ]
  },
  {
   "cell_type": "code",
   "execution_count": 2,
   "metadata": {
    "collapsed": true
   },
   "outputs": [],
   "source": [
    "train_cont_sc_2_graphs = []\n",
    "train_cont_sc_2_labels = []\n",
    "# labels:  \n",
    "# early_split = 2\n",
    "# early_coalesce = 3\n",
    "# late_split = 4\n",
    "# late_coalesce = 5"
   ]
  },
  {
   "cell_type": "code",
   "execution_count": 3,
   "metadata": {
    "collapsed": true
   },
   "outputs": [],
   "source": [
    "from os import listdir\n",
    "from os.path import isfile, join\n"
   ]
  },
  {
   "cell_type": "code",
   "execution_count": 4,
   "metadata": {
    "collapsed": true
   },
   "outputs": [],
   "source": [
    "early_split_files = [f for f in listdir(\"train-early-split/continuity\") if isfile(join(\"train-early-split/continuity\", f))]\n",
    "early_coalesce_files = [f for f in listdir(\"train-early-coalesce/continuity\") if isfile(join(\"train-early-coalesce/continuity\", f))]\n",
    "late_split_files = [f for f in listdir(\"train-late-split/continuity\") if isfile(join(\"train-late-split/continuity\", f))]\n",
    "late_coalesce_files = [f for f in listdir(\"train-late-coalesce/continuity\") if isfile(join(\"train-late-coalesce/continuity\", f))]"
   ]
  },
  {
   "cell_type": "code",
   "execution_count": 5,
   "metadata": {
    "collapsed": false
   },
   "outputs": [],
   "source": [
    "for f in early_split_files:\n",
    "    path = \"train-early-split/continuity/\" + f\n",
    "    g = nx.read_gml(path)\n",
    "    train_cont_sc_2_graphs.append(g)\n",
    "    train_cont_sc_2_labels.append(2)\n",
    "    \n",
    "for f in early_coalesce_files:\n",
    "    path = \"train-early-coalesce/continuity/\" + f\n",
    "    g = nx.read_gml(path)\n",
    "    train_cont_sc_2_graphs.append(g)\n",
    "    train_cont_sc_2_labels.append(3)\n",
    "    \n",
    "for f in late_split_files:\n",
    "    path = \"train-late-split/continuity/\" + f\n",
    "    g = nx.read_gml(path)\n",
    "    train_cont_sc_2_graphs.append(g)\n",
    "    train_cont_sc_2_labels.append(4)\n",
    "    \n",
    "for f in late_coalesce_files:\n",
    "    path = \"train-late-coalesce/continuity/\" + f\n",
    "    g = nx.read_gml(path)\n",
    "    train_cont_sc_2_graphs.append(g)\n",
    "    train_cont_sc_2_labels.append(5)"
   ]
  },
  {
   "cell_type": "code",
   "execution_count": 6,
   "metadata": {
    "collapsed": false
   },
   "outputs": [
    {
     "name": "stdout",
     "output_type": "stream",
     "text": [
      "200\n",
      "200\n"
     ]
    }
   ],
   "source": [
    "print len(train_cont_sc_2_graphs)\n",
    "print len(train_cont_sc_2_labels)"
   ]
  },
  {
   "cell_type": "code",
   "execution_count": 7,
   "metadata": {
    "collapsed": true
   },
   "outputs": [],
   "source": [
    "pickle.dump(train_cont_sc_2_graphs,open(\"train-cont-sc-2-graphs.pkl\",'wb'))\n",
    "pickle.dump(train_cont_sc_2_labels,open(\"train-cont-sc-2-labels.pkl\",'wb'))"
   ]
  },
  {
   "cell_type": "code",
   "execution_count": null,
   "metadata": {
    "collapsed": true
   },
   "outputs": [],
   "source": []
  }
 ],
 "metadata": {
  "kernelspec": {
   "display_name": "Python 2",
   "language": "python",
   "name": "python2"
  },
  "language_info": {
   "codemirror_mode": {
    "name": "ipython",
    "version": 2
   },
   "file_extension": ".py",
   "mimetype": "text/x-python",
   "name": "python",
   "nbconvert_exporter": "python",
   "pygments_lexer": "ipython2",
   "version": "2.7.11"
  }
 },
 "nbformat": 4,
 "nbformat_minor": 0
}
