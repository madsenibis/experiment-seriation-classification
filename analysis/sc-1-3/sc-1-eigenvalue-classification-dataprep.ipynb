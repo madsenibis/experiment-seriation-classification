{
 "cells": [
  {
   "cell_type": "code",
   "execution_count": 1,
   "metadata": {
    "collapsed": false
   },
   "outputs": [],
   "source": [
    "import cPickle as pickle\n",
    "import networkx as nx"
   ]
  },
  {
   "cell_type": "code",
   "execution_count": 2,
   "metadata": {
    "collapsed": true
   },
   "outputs": [],
   "source": [
    "train_cont_sc_1_3_graphs = []\n",
    "train_cont_sc_1_3_labels = []\n",
    "# labels:  linear = 0, lineage = 1"
   ]
  },
  {
   "cell_type": "code",
   "execution_count": 3,
   "metadata": {
    "collapsed": true
   },
   "outputs": [],
   "source": [
    "from os import listdir\n",
    "from os.path import isfile, join\n"
   ]
  },
  {
   "cell_type": "code",
   "execution_count": 4,
   "metadata": {
    "collapsed": true
   },
   "outputs": [],
   "source": [
    "linear_continuity_files = [f for f in listdir(\"train-linear/continuity\") if isfile(join(\"train-linear/continuity\", f))]\n",
    "lineage_continuity_files = [f for f in listdir(\"train-lineage/continuity\") if isfile(join(\"train-lineage/continuity\", f))]"
   ]
  },
  {
   "cell_type": "code",
   "execution_count": 5,
   "metadata": {
    "collapsed": false
   },
   "outputs": [
    {
     "name": "stdout",
     "output_type": "stream",
     "text": [
      "  edge [\n",
      "  ^\n",
      "Expected \"]\" (at char 6318), (line:351, col:3)\n",
      "bad file format: 5981e54a-d77c-11e5-b052-086266a2412a-0-sampled-500-slicestratified-0.12-resample-0-0.1-unimodal-filtered-minmax-by-weight-continuity.gml\n"
     ]
    }
   ],
   "source": [
    "\n",
    "for f in linear_continuity_files:\n",
    "    path = \"train-linear/continuity/\" + f\n",
    "    try:\n",
    "        g = nx.read_gml(path)\n",
    "    except:\n",
    "        print \"bad file format: %s\" % f\n",
    "    train_cont_sc_1_3_graphs.append(g)\n",
    "    train_cont_sc_1_3_labels.append(0)\n",
    "    \n",
    "for f in lineage_continuity_files:\n",
    "    path = \"train-lineage/continuity/\" + f\n",
    "    try:\n",
    "        g = nx.read_gml(path)\n",
    "    except:\n",
    "        print \"bad file format: %s\" % f\n",
    "    train_cont_sc_1_3_graphs.append(g)\n",
    "    train_cont_sc_1_3_labels.append(1)"
   ]
  },
  {
   "cell_type": "code",
   "execution_count": 6,
   "metadata": {
    "collapsed": true
   },
   "outputs": [],
   "source": [
    "pickle.dump(train_cont_sc_1_3_graphs,open(\"train-cont-sc-1-3-graphs.pkl\",'wb'))\n",
    "pickle.dump(train_cont_sc_1_3_labels,open(\"train-cont-sc-1-3-labels.pkl\",'wb'))"
   ]
  },
  {
   "cell_type": "code",
   "execution_count": null,
   "metadata": {
    "collapsed": true
   },
   "outputs": [],
   "source": []
  }
 ],
 "metadata": {
  "kernelspec": {
   "display_name": "Python 2",
   "language": "python",
   "name": "python2"
  },
  "language_info": {
   "codemirror_mode": {
    "name": "ipython",
    "version": 2
   },
   "file_extension": ".py",
   "mimetype": "text/x-python",
   "name": "python",
   "nbconvert_exporter": "python",
   "pygments_lexer": "ipython2",
   "version": "2.7.11"
  }
 },
 "nbformat": 4,
 "nbformat_minor": 0
}
