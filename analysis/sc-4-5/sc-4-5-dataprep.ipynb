{
 "cells": [
  {
   "cell_type": "code",
   "execution_count": 1,
   "metadata": {
    "collapsed": false
   },
   "outputs": [],
   "source": [
    "import cPickle as pickle\n",
    "import networkx as nx"
   ]
  },
  {
   "cell_type": "code",
   "execution_count": 2,
   "metadata": {
    "collapsed": true
   },
   "outputs": [],
   "source": [
    "\n",
    "train_cont_sc_4_5_graphs = []\n",
    "train_cont_sc_4_5_labels = []\n",
    "# labels:  \n",
    "# sc-4-nn = 6, \n",
    "# sc-5-nn = 7"
   ]
  },
  {
   "cell_type": "code",
   "execution_count": 3,
   "metadata": {
    "collapsed": true
   },
   "outputs": [],
   "source": [
    "from os import listdir\n",
    "from os.path import isfile, join\n"
   ]
  },
  {
   "cell_type": "code",
   "execution_count": 4,
   "metadata": {
    "collapsed": false
   },
   "outputs": [],
   "source": [
    "# linear_freq_files = [f for f in listdir(\"train-linear/frequency\") if isfile(join(\"train-linear/frequency\", f))]\n",
    "# lineage_freq_files = [f for f in listdir(\"train-lineage/frequency\") if isfile(join(\"train-lineage/frequency\", f))]\n",
    "sc4files = [f for f in listdir(\"sc-4-train\") if isfile(join(\"sc-4-train\", f))]\n",
    "sc5files = [f for f in listdir(\"sc-5-train\") if isfile(join(\"sc-5-train\", f))]"
   ]
  },
  {
   "cell_type": "code",
   "execution_count": 5,
   "metadata": {
    "collapsed": false
   },
   "outputs": [],
   "source": [
    "# for f in linear_freq_files:\n",
    "#     path = \"train-linear/frequency/\" + f\n",
    "#     g = nx.read_gml(path)\n",
    "#     train_freq_graphs.append(g)\n",
    "#     train_freq_labels.append(0)\n",
    "    \n",
    "# for f in lineage_freq_files:\n",
    "#     path = \"train-lineage/frequency/\" + f\n",
    "#     g = nx.read_gml(path)\n",
    "#     train_freq_graphs.append(g)\n",
    "#     train_freq_labels.append(1)\n",
    "    \n",
    "for f in sc4files:\n",
    "    path = \"sc-4-train/\" + f\n",
    "    try:\n",
    "        g = nx.read_gml(path)\n",
    "    except:\n",
    "        print \"bad file format: %s\" % f\n",
    "    train_cont_sc_4_5_graphs.append(g)\n",
    "    train_cont_sc_4_5_labels.append(4)\n",
    "    \n",
    "for f in sc5files:\n",
    "    path = \"sc-5-train/\" + f\n",
    "    try:\n",
    "        g = nx.read_gml(path)\n",
    "    except:\n",
    "        print \"bad file format: %s\" % f\n",
    "    train_cont_sc_4_5_graphs.append(g)\n",
    "    train_cont_sc_4_5_labels.append(5)"
   ]
  },
  {
   "cell_type": "code",
   "execution_count": 6,
   "metadata": {
    "collapsed": true
   },
   "outputs": [],
   "source": [
    "pickle.dump(train_cont_sc_4_5_graphs,open(\"train-sc-4-5-cont-graphs.pkl\",'wb'))\n",
    "pickle.dump(train_cont_sc_4_5_labels,open(\"train-sc-4-5-cont-labels.pkl\",'wb'))"
   ]
  },
  {
   "cell_type": "code",
   "execution_count": null,
   "metadata": {
    "collapsed": true
   },
   "outputs": [],
   "source": []
  }
 ],
 "metadata": {
  "kernelspec": {
   "display_name": "Python 2",
   "language": "python",
   "name": "python2"
  },
  "language_info": {
   "codemirror_mode": {
    "name": "ipython",
    "version": 2
   },
   "file_extension": ".py",
   "mimetype": "text/x-python",
   "name": "python",
   "nbconvert_exporter": "python",
   "pygments_lexer": "ipython2",
   "version": "2.7.11"
  }
 },
 "nbformat": 4,
 "nbformat_minor": 0
}
